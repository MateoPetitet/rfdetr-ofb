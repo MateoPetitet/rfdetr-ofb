{
 "cells": [
  {
   "cell_type": "markdown",
   "id": "0e3d1049",
   "metadata": {},
   "source": [
    "# Fine-tuning : RF-DETR\n",
    "\n",
    "Objectif : faire de RF-DETR un détecteur de poissons sur des images de 1920\\*1080 pixels"
   ]
  },
  {
   "cell_type": "code",
   "execution_count": null,
   "id": "4d556102",
   "metadata": {},
   "outputs": [],
   "source": []
  }
 ],
 "metadata": {
  "kernelspec": {
   "display_name": "Python (rf-detr)",
   "language": "python",
   "name": "rfdetr"
  },
  "language_info": {
   "codemirror_mode": {
    "name": "ipython",
    "version": 3
   },
   "file_extension": ".py",
   "mimetype": "text/x-python",
   "name": "python",
   "nbconvert_exporter": "python",
   "pygments_lexer": "ipython3",
   "version": "3.10.16"
  }
 },
 "nbformat": 4,
 "nbformat_minor": 5
}
