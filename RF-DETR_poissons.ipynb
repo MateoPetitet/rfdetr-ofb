{
 "cells": [
  {
   "cell_type": "markdown",
   "id": "0e3d1049",
   "metadata": {},
   "source": [
    "# Fine-tuning : RF-DETR\n",
    "\n",
    "Objectif : faire de RF-DETR un détecteur de poissons sur des images de 1920\\*1080 pixels"
   ]
  },
  {
   "cell_type": "code",
   "execution_count": 1,
   "id": "4d556102",
   "metadata": {},
   "outputs": [
    {
     "name": "stdout",
     "output_type": "stream",
     "text": [
      "Device utilisé : cuda\n"
     ]
    }
   ],
   "source": [
    "# Importations\n",
    "import os\n",
    "import numpy as np\n",
    "import torch\n",
    "import torchvision\n",
    "from torchvision import transforms\n",
    "import torch.nn as nn\n",
    "import torch.optim as optim\n",
    "from torch.utils.data import Dataset, DataLoader\n",
    "import json\n",
    "import cv2\n",
    "import matplotlib.pyplot as plt\n",
    "import pycocotools.coco as coco\n",
    "from PIL import Image\n",
    "from rfdetr import RFDETRLarge, RFDETRBase  # Assurez-vous que le package rf-detr est bien installé\n",
    "\n",
    "\n",
    "# Vérification de la disponibilité du GPU\n",
    "device = torch.device(\"cuda\" if torch.cuda.is_available() else \"cpu\")\n",
    "print(\"Device utilisé :\", device)\n"
   ]
  },
  {
   "cell_type": "code",
   "execution_count": 2,
   "id": "1b1d07d1",
   "metadata": {},
   "outputs": [],
   "source": [
    "data_dir = \"/home/mateo/Travail/Fine-tune/Dataset/Roboflow\"  # chemin vers votre jeu de données\n",
    "#images_dir = os.path.join(data_dir, \"luderick-seagrass/train\")\n",
    "#annotations_file = os.path.join(images_dir, \"_annotations.coco.json\")\n",
    "\n",
    "# Charger les annotations COCO\n",
    "#coco_dataset = coco.COCO(annotations_file)\n",
    "#print(\"Nombre d'images dans le dataset :\", len(coco_dataset.imgs))\n"
   ]
  },
  {
   "cell_type": "raw",
   "id": "b0accf12",
   "metadata": {},
   "source": [
    "class CustomCOCODataset(Dataset):\n",
    "    def __init__(self, coco_obj, images_dir):\n",
    "        self.coco = coco_obj\n",
    "        self.images_dir = images_dir\n",
    "        self.image_ids = list(self.coco.imgs.keys())\n",
    "    \n",
    "    def __len__(self):\n",
    "        return len(self.image_ids)\n",
    "    \n",
    "    def __getitem__(self, idx):\n",
    "        # Récupérer l'identifiant et les métadonnées de l'image\n",
    "        img_id = self.image_ids[idx]\n",
    "        img_info = self.coco.imgs[img_id]\n",
    "        img_path = os.path.join(self.images_dir, img_info['file_name'])\n",
    "        \n",
    "        # Ouvrir l'image et la convertir en RGB\n",
    "        image = Image.open(img_path).convert(\"RGB\")\n",
    "        image_np = np.array(image)\n",
    "\n",
    "        # Récupérer les annotations associées à l'image\n",
    "        ann_ids = self.coco.getAnnIds(imgIds=img_id)\n",
    "        anns = self.coco.loadAnns(ann_ids)\n",
    "        \n",
    "        # Transformer les annotations pour rf-detr.\n",
    "        # rf-detr s'attend à une structure de cibles similaire à celle de DETR\n",
    "        boxes = []\n",
    "        labels = []\n",
    "        for ann in anns:\n",
    "            bbox = ann['bbox']  # format : [x, y, w, h]\n",
    "            # Convertir en [x_min, y_min, x_max, y_max]\n",
    "            x_min = bbox[0]\n",
    "            y_min = bbox[1]\n",
    "            x_max = x_min + bbox[2]\n",
    "            y_max = y_min + bbox[3]\n",
    "            boxes.append([x_min, y_min, x_max, y_max])\n",
    "            # Ici, vous supposez une seule classe « poisson » avec label 1 (si vous avez d'autres classes, adapter)\n",
    "            labels.append(1)\n",
    "\n",
    "        target = {\n",
    "            \"boxes\": torch.tensor(boxes, dtype=torch.float32),\n",
    "            \"labels\": torch.tensor(labels, dtype=torch.int64),\n",
    "            \"image_id\": torch.tensor([img_id])\n",
    "        }\n",
    "        \n",
    "        # Convertir en tensor (normalisation peut être ajoutée ici)\n",
    "        image_tensor = torchvision.transforms.functional.to_tensor(image_np)\n",
    "        return image_tensor, target\n",
    "\n",
    "# Créer le dataset\n",
    "dataset = CustomCOCODataset(coco_obj=coco_dataset, images_dir=images_dir)\n",
    "print(\"Taille du dataset custom :\", len(dataset))\n"
   ]
  },
  {
   "cell_type": "raw",
   "id": "65484b5b",
   "metadata": {},
   "source": [
    "# Compte tenu de la VRAM limitée (4GB), on choisit un batch size faible\n",
    "batch_size = 2\n",
    "\n",
    "data_loader = DataLoader(dataset, batch_size=batch_size, shuffle=True, collate_fn=lambda x: tuple(zip(*x)))\n",
    "\n",
    "print(\"DataLoader prêt avec batch size =\", batch_size)\n"
   ]
  },
  {
   "cell_type": "code",
   "execution_count": 3,
   "id": "d117894b",
   "metadata": {},
   "outputs": [
    {
     "name": "stderr",
     "output_type": "stream",
     "text": [
      "num_classes mismatch: pretrain weights has 90 classes, but your model has 2 classes\n",
      "reinitializing detection head with 90 classes\n"
     ]
    },
    {
     "name": "stdout",
     "output_type": "stream",
     "text": [
      "Loading pretrain weights\n",
      "Modèle chargé sur l'appareil : cuda\n"
     ]
    }
   ],
   "source": [
    "# Cellule 6 : Charger et adapter le modèle rf-detr pré-entraîné\n",
    "# -----------------------------------------------------\n",
    "# Nous allons charger le modèle rf-detr du dépôt et le fine-tuner\n",
    "# Vous pouvez soit utiliser le modèle préentraîné fourni par rf-detr (si disponible) ou initialiser un modèle de DETR et le charger\n",
    "# Vous pouvez adapter le nombre de classes. Ici, nous avons 1 classe (poisson) + 1 classe pour le fond si nécessaire.\n",
    "num_classes = 2  # par exemple, 1 classe pour \"poisson\" et 1 classe pour le \"fond\"\n",
    "\n",
    "# Chargement du modèle pré-entraîné (précisez éventuellement le checkpoint préentraîné)\n",
    "model = RFDETRBase(num_classes=num_classes, pretrained=True)\n",
    "#model.to(device)\n",
    "print(\"Modèle chargé sur l'appareil :\", device)\n"
   ]
  },
  {
   "cell_type": "code",
   "execution_count": null,
   "id": "625a2c51",
   "metadata": {},
   "outputs": [
    {
     "name": "stderr",
     "output_type": "stream",
     "text": [
      "num_classes mismatch: model has 2 classes, but your dataset has 14 classes\n",
      "reinitializing your detection head with 14 classes.\n"
     ]
    },
    {
     "name": "stdout",
     "output_type": "stream",
     "text": [
      "TensorBoard logging initialized. To monitor logs, use 'tensorboard --logdir output' and open http://localhost:6006/ in browser.\n",
      "Not using distributed mode\n",
      "git:\n",
      "  sha: N/A, status: clean, branch: N/A\n",
      "\n",
      "Namespace(num_classes=14, grad_accum_steps=1, amp=True, lr=0.0001, lr_encoder=0.00015, batch_size=1, weight_decay=0.0001, epochs=3, lr_drop=100, clip_max_norm=0.1, lr_vit_layer_decay=0.8, lr_component_decay=0.7, do_benchmark=False, dropout=0, drop_path=0.0, drop_mode='standard', drop_schedule='constant', cutoff_epoch=0, pretrained_encoder=None, pretrain_weights='rf-detr-base.pth', pretrain_exclude_keys=None, pretrain_keys_modify_to_load=None, pretrained_distiller=None, encoder='dinov2_windowed_small', vit_encoder_num_layers=12, window_block_indexes=None, position_embedding='sine', out_feature_indexes=[2, 5, 8, 11], freeze_encoder=False, layer_norm=True, rms_norm=False, backbone_lora=False, force_no_pretrain=False, dec_layers=3, dim_feedforward=2048, hidden_dim=256, sa_nheads=8, ca_nheads=16, num_queries=300, group_detr=13, two_stage=True, projector_scale=['P4'], lite_refpoint_refine=True, num_select=300, dec_n_points=2, decoder_norm='LN', bbox_reparam=True, freeze_batch_norm=False, set_cost_class=2, set_cost_bbox=5, set_cost_giou=2, cls_loss_coef=1.0, bbox_loss_coef=5, giou_loss_coef=2, focal_alpha=0.25, aux_loss=True, sum_group_losses=False, use_varifocal_loss=False, use_position_supervised_loss=False, ia_bce_loss=True, dataset_file='roboflow', coco_path=None, dataset_dir='/home/mateo/Travail/Fine-tune/Dataset/Roboflow/Fish.v44i.coco', square_resize_div_64=True, output_dir='output', dont_save_weights=False, checkpoint_interval=10, seed=42, resume='', start_epoch=0, eval=False, use_ema=True, ema_decay=0.993, ema_tau=100, num_workers=2, device='cuda', world_size=1, dist_url='env://', sync_bn=True, fp16_eval=False, encoder_only=False, backbone_only=False, resolution=560, use_cls_token=False, multi_scale=True, expanded_scales=True, warmup_epochs=0, lr_scheduler='step', lr_min_factor=0.0, early_stopping=False, early_stopping_patience=10, early_stopping_min_delta=0.001, early_stopping_use_ema=False, gradient_checkpointing=False, tensorboard=True, wandb=False, project=None, run=None, class_names=['Acanthuridae -Surgeonfishes-', 'Balistidae -Triggerfishes-', 'Carangidae -Jacks-', 'Ephippidae -Spadefishes-', 'Labridae -Wrasse-', 'Lutjanidae -Snappers-', 'Pomacanthidae -Angelfishes-', 'Pomacentridae -Damselfishes-', 'Scaridae -Parrotfishes-', 'Scombridae -Tunas-', 'Serranidae -Groupers-', 'Shark -Selachimorpha-', 'Zanclidae -Moorish Idol-'], distributed=False)\n",
      "number of params: 31897484\n",
      "[392, 448, 504, 560, 616, 672, 728, 784]\n",
      "loading annotations into memory...\n",
      "Done (t=0.00s)\n",
      "creating index...\n",
      "index created!\n",
      "[392, 448, 504, 560, 616, 672, 728, 784]\n",
      "loading annotations into memory...\n",
      "Done (t=0.00s)\n",
      "creating index...\n",
      "index created!\n"
     ]
    },
    {
     "name": "stderr",
     "output_type": "stream",
     "text": [
      "fatal: not a git repository (or any of the parent directories): .git\n"
     ]
    },
    {
     "name": "stdout",
     "output_type": "stream",
     "text": [
      "Get benchmark\n",
      "Start training\n",
      "Grad accum steps:  1\n",
      "Total batch size:  1\n",
      "LENGTH OF DATA LOADER: 476\n"
     ]
    },
    {
     "name": "stderr",
     "output_type": "stream",
     "text": [
      "UserWarning: torch.meshgrid: in an upcoming release, it will be required to pass the indexing argument. (Triggered internally at /pytorch/aten/src/ATen/native/TensorShape.cpp:3637.)\n"
     ]
    },
    {
     "name": "stdout",
     "output_type": "stream",
     "text": [
      "Epoch: [0]  [  0/476]  eta: 0:08:50  lr: 0.000100  class_error: 92.31  loss: 7.8890 (7.8890)  loss_ce: 1.3693 (1.3693)  loss_bbox: 0.2988 (0.2988)  loss_giou: 0.1779 (0.1779)  loss_ce_0: 1.3657 (1.3657)  loss_bbox_0: 0.3639 (0.3639)  loss_giou_0: 0.2148 (0.2148)  loss_ce_1: 1.3626 (1.3626)  loss_bbox_1: 0.3751 (0.3751)  loss_giou_1: 0.2075 (0.2075)  loss_ce_enc: 1.3058 (1.3058)  loss_bbox_enc: 0.5617 (0.5617)  loss_giou_enc: 0.2860 (0.2860)  loss_ce_unscaled: 1.3693 (1.3693)  class_error_unscaled: 92.3077 (92.3077)  loss_bbox_unscaled: 0.0598 (0.0598)  loss_giou_unscaled: 0.0889 (0.0889)  cardinality_error_unscaled: 3890.0000 (3890.0000)  loss_ce_0_unscaled: 1.3657 (1.3657)  loss_bbox_0_unscaled: 0.0728 (0.0728)  loss_giou_0_unscaled: 0.1074 (0.1074)  cardinality_error_0_unscaled: 3615.0000 (3615.0000)  loss_ce_1_unscaled: 1.3626 (1.3626)  loss_bbox_1_unscaled: 0.0750 (0.0750)  loss_giou_1_unscaled: 0.1038 (0.1038)  cardinality_error_1_unscaled: 2797.0000 (2797.0000)  loss_ce_enc_unscaled: 1.3058 (1.3058)  loss_bbox_enc_unscaled: 0.1123 (0.1123)  loss_giou_enc_unscaled: 0.1430 (0.1430)  cardinality_error_enc_unscaled: 3518.0000 (3518.0000)  time: 1.1155  data: 0.0696  max mem: 1629\n",
      "Epoch: [0]  [ 10/476]  eta: 0:04:40  lr: 0.000100  class_error: 100.00  loss: 8.6623 (8.9457)  loss_ce: 1.3891 (1.3204)  loss_bbox: 0.3537 (0.4180)  loss_giou: 0.1779 (0.2791)  loss_ce_0: 1.2473 (1.2399)  loss_bbox_0: 0.6903 (0.7402)  loss_giou_0: 0.3843 (0.4190)  loss_ce_1: 1.3626 (1.3172)  loss_bbox_1: 0.3826 (0.4332)  loss_giou_1: 0.2075 (0.2970)  loss_ce_enc: 1.2843 (1.2065)  loss_bbox_enc: 0.7331 (0.7976)  loss_giou_enc: 0.3556 (0.4775)  loss_ce_unscaled: 1.3891 (1.3204)  class_error_unscaled: 100.0000 (96.7366)  loss_bbox_unscaled: 0.0707 (0.0836)  loss_giou_unscaled: 0.0889 (0.1396)  cardinality_error_unscaled: 3890.0000 (3885.3636)  loss_ce_0_unscaled: 1.2473 (1.2399)  loss_bbox_0_unscaled: 0.1381 (0.1480)  loss_giou_0_unscaled: 0.1921 (0.2095)  cardinality_error_0_unscaled: 3781.0000 (3745.9091)  loss_ce_1_unscaled: 1.3626 (1.3172)  loss_bbox_1_unscaled: 0.0765 (0.0866)  loss_giou_1_unscaled: 0.1038 (0.1485)  cardinality_error_1_unscaled: 3296.0000 (3261.8182)  loss_ce_enc_unscaled: 1.2843 (1.2065)  loss_bbox_enc_unscaled: 0.1466 (0.1595)  loss_giou_enc_unscaled: 0.1778 (0.2388)  cardinality_error_enc_unscaled: 3492.0000 (3515.0909)  time: 0.6025  data: 0.0091  max mem: 2108\n",
      "Epoch: [0]  [ 20/476]  eta: 0:05:07  lr: 0.000100  class_error: 84.62  loss: 8.8480 (9.0614)  loss_ce: 1.3481 (1.3134)  loss_bbox: 0.4195 (0.4638)  loss_giou: 0.1842 (0.2973)  loss_ce_0: 1.2877 (1.2556)  loss_bbox_0: 0.6903 (0.7001)  loss_giou_0: 0.3223 (0.3908)  loss_ce_1: 1.3592 (1.3125)  loss_bbox_1: 0.3977 (0.4706)  loss_giou_1: 0.2178 (0.3058)  loss_ce_enc: 1.2588 (1.2007)  loss_bbox_enc: 0.8226 (0.8614)  loss_giou_enc: 0.3732 (0.4894)  loss_ce_unscaled: 1.3481 (1.3134)  class_error_unscaled: 100.0000 (95.7265)  loss_bbox_unscaled: 0.0839 (0.0928)  loss_giou_unscaled: 0.0921 (0.1487)  cardinality_error_unscaled: 3887.0000 (3886.7143)  loss_ce_0_unscaled: 1.2877 (1.2556)  loss_bbox_0_unscaled: 0.1381 (0.1400)  loss_giou_0_unscaled: 0.1612 (0.1954)  cardinality_error_0_unscaled: 3778.0000 (3755.5238)  loss_ce_1_unscaled: 1.3592 (1.3125)  loss_bbox_1_unscaled: 0.0795 (0.0941)  loss_giou_1_unscaled: 0.1089 (0.1529)  cardinality_error_1_unscaled: 3209.0000 (3234.4286)  loss_ce_enc_unscaled: 1.2588 (1.2007)  loss_bbox_enc_unscaled: 0.1645 (0.1723)  loss_giou_enc_unscaled: 0.1866 (0.2447)  cardinality_error_enc_unscaled: 3620.0000 (3589.8571)  time: 0.6520  data: 0.0025  max mem: 2711\n",
      "Epoch: [0]  [ 30/476]  eta: 0:04:49  lr: 0.000100  class_error: 38.46  loss: 8.8480 (9.2155)  loss_ce: 1.3481 (1.2965)  loss_bbox: 0.4331 (0.4925)  loss_giou: 0.2255 (0.3284)  loss_ce_0: 1.2992 (1.2502)  loss_bbox_0: 0.5980 (0.7042)  loss_giou_0: 0.2715 (0.4039)  loss_ce_1: 1.3387 (1.2954)  loss_bbox_1: 0.4363 (0.5080)  loss_giou_1: 0.2178 (0.3367)  loss_ce_enc: 1.2588 (1.1849)  loss_bbox_enc: 0.8680 (0.8940)  loss_giou_enc: 0.3783 (0.5209)  loss_ce_unscaled: 1.3481 (1.2965)  class_error_unscaled: 100.0000 (91.8528)  loss_bbox_unscaled: 0.0866 (0.0985)  loss_giou_unscaled: 0.1127 (0.1642)  cardinality_error_unscaled: 3892.0000 (3889.3548)  loss_ce_0_unscaled: 1.2992 (1.2502)  loss_bbox_0_unscaled: 0.1196 (0.1408)  loss_giou_0_unscaled: 0.1357 (0.2020)  cardinality_error_0_unscaled: 3759.0000 (3728.0323)  loss_ce_1_unscaled: 1.3387 (1.2954)  loss_bbox_1_unscaled: 0.0873 (0.1016)  loss_giou_1_unscaled: 0.1089 (0.1683)  cardinality_error_1_unscaled: 3207.0000 (3254.7419)  loss_ce_enc_unscaled: 1.2588 (1.1849)  loss_bbox_enc_unscaled: 0.1736 (0.1788)  loss_giou_enc_unscaled: 0.1891 (0.2604)  cardinality_error_enc_unscaled: 3764.0000 (3672.9677)  time: 0.6738  data: 0.0020  max mem: 2715\n",
      "Epoch: [0]  [ 40/476]  eta: 0:04:45  lr: 0.000100  class_error: 100.00  loss: 10.2638 (9.6962)  loss_ce: 1.2244 (1.2673)  loss_bbox: 0.6873 (0.5794)  loss_giou: 0.4150 (0.3809)  loss_ce_0: 1.2115 (1.2203)  loss_bbox_0: 0.7994 (0.7717)  loss_giou_0: 0.4786 (0.4585)  loss_ce_1: 1.2067 (1.2568)  loss_bbox_1: 0.7802 (0.6185)  loss_giou_1: 0.4194 (0.4059)  loss_ce_enc: 1.1500 (1.1478)  loss_bbox_enc: 0.9164 (0.9993)  loss_giou_enc: 0.5745 (0.5898)  loss_ce_unscaled: 1.2244 (1.2673)  class_error_unscaled: 96.1538 (91.1195)  loss_bbox_unscaled: 0.1375 (0.1159)  loss_giou_unscaled: 0.2075 (0.1904)  cardinality_error_unscaled: 3898.0000 (3891.6341)  loss_ce_0_unscaled: 1.2115 (1.2203)  loss_bbox_0_unscaled: 0.1599 (0.1543)  loss_giou_0_unscaled: 0.2393 (0.2293)  cardinality_error_0_unscaled: 3835.0000 (3764.0976)  loss_ce_1_unscaled: 1.2067 (1.2568)  loss_bbox_1_unscaled: 0.1560 (0.1237)  loss_giou_1_unscaled: 0.2097 (0.2029)  cardinality_error_1_unscaled: 3614.0000 (3393.4634)  loss_ce_enc_unscaled: 1.1500 (1.1478)  loss_bbox_enc_unscaled: 0.1833 (0.1999)  loss_giou_enc_unscaled: 0.2873 (0.2949)  cardinality_error_enc_unscaled: 3848.0000 (3712.0244)  time: 0.6364  data: 0.0020  max mem: 2715\n",
      "Epoch: [0]  [ 50/476]  eta: 0:04:35  lr: 0.000100  class_error: 100.00  loss: 10.2638 (9.7795)  loss_ce: 1.2295 (1.2663)  loss_bbox: 0.7464 (0.5940)  loss_giou: 0.4332 (0.3870)  loss_ce_0: 1.2068 (1.2181)  loss_bbox_0: 0.8205 (0.7813)  loss_giou_0: 0.4883 (0.4603)  loss_ce_1: 1.2067 (1.2524)  loss_bbox_1: 0.7802 (0.6446)  loss_giou_1: 0.4772 (0.4153)  loss_ce_enc: 1.1056 (1.1433)  loss_bbox_enc: 0.9941 (1.0180)  loss_giou_enc: 0.6528 (0.5990)  loss_ce_unscaled: 1.2295 (1.2663)  class_error_unscaled: 98.0769 (89.1528)  loss_bbox_unscaled: 0.1493 (0.1188)  loss_giou_unscaled: 0.2166 (0.1935)  cardinality_error_unscaled: 3899.0000 (3892.9608)  loss_ce_0_unscaled: 1.2068 (1.2181)  loss_bbox_0_unscaled: 0.1641 (0.1563)  loss_giou_0_unscaled: 0.2442 (0.2302)  cardinality_error_0_unscaled: 3893.0000 (3788.3529)  loss_ce_1_unscaled: 1.2067 (1.2524)  loss_bbox_1_unscaled: 0.1560 (0.1289)  loss_giou_1_unscaled: 0.2386 (0.2076)  cardinality_error_1_unscaled: 3882.0000 (3490.1765)  loss_ce_enc_unscaled: 1.1056 (1.1433)  loss_bbox_enc_unscaled: 0.1988 (0.2036)  loss_giou_enc_unscaled: 0.3264 (0.2995)  cardinality_error_enc_unscaled: 3857.0000 (3742.2353)  time: 0.6458  data: 0.0020  max mem: 2715\n",
      "Epoch: [0]  [ 60/476]  eta: 0:04:29  lr: 0.000100  class_error: 0.00  loss: 9.5196 (9.7452)  loss_ce: 1.2772 (1.2711)  loss_bbox: 0.5712 (0.5938)  loss_giou: 0.3239 (0.3805)  loss_ce_0: 1.2273 (1.2253)  loss_bbox_0: 0.7211 (0.7682)  loss_giou_0: 0.4062 (0.4459)  loss_ce_1: 1.2695 (1.2590)  loss_bbox_1: 0.5678 (0.6424)  loss_giou_1: 0.3749 (0.4043)  loss_ce_enc: 1.1396 (1.1450)  loss_bbox_enc: 0.8719 (1.0155)  loss_giou_enc: 0.5540 (0.5942)  loss_ce_unscaled: 1.2772 (1.2711)  class_error_unscaled: 100.0000 (89.0395)  loss_bbox_unscaled: 0.1142 (0.1188)  loss_giou_unscaled: 0.1620 (0.1903)  cardinality_error_unscaled: 3899.0000 (3893.9016)  loss_ce_0_unscaled: 1.2273 (1.2253)  loss_bbox_0_unscaled: 0.1442 (0.1536)  loss_giou_0_unscaled: 0.2031 (0.2230)  cardinality_error_0_unscaled: 3897.0000 (3806.0656)  loss_ce_1_unscaled: 1.2695 (1.2590)  loss_bbox_1_unscaled: 0.1136 (0.1285)  loss_giou_1_unscaled: 0.1875 (0.2021)  cardinality_error_1_unscaled: 3887.0000 (3554.4262)  loss_ce_enc_unscaled: 1.1396 (1.1450)  loss_bbox_enc_unscaled: 0.1744 (0.2031)  loss_giou_enc_unscaled: 0.2770 (0.2971)  cardinality_error_enc_unscaled: 3884.0000 (3766.5410)  time: 0.6282  data: 0.0019  max mem: 2715\n"
     ]
    },
    {
     "name": "stdout",
     "output_type": "stream",
     "text": [
      "Epoch: [0]  [ 70/476]  eta: 0:04:23  lr: 0.000100  class_error: 82.05  loss: 9.5720 (9.7811)  loss_ce: 1.3155 (1.2647)  loss_bbox: 0.5681 (0.5954)  loss_giou: 0.3219 (0.3941)  loss_ce_0: 1.2628 (1.2174)  loss_bbox_0: 0.6203 (0.7606)  loss_giou_0: 0.3764 (0.4597)  loss_ce_1: 1.2864 (1.2540)  loss_bbox_1: 0.5809 (0.6424)  loss_giou_1: 0.3692 (0.4151)  loss_ce_enc: 1.1396 (1.1354)  loss_bbox_enc: 0.8627 (1.0297)  loss_giou_enc: 0.5228 (0.6126)  loss_ce_unscaled: 1.3155 (1.2647)  class_error_unscaled: 100.0000 (88.3153)  loss_bbox_unscaled: 0.1136 (0.1191)  loss_giou_unscaled: 0.1610 (0.1970)  cardinality_error_unscaled: 3899.0000 (3894.4085)  loss_ce_0_unscaled: 1.2628 (1.2174)  loss_bbox_0_unscaled: 0.1241 (0.1521)  loss_giou_0_unscaled: 0.1882 (0.2299)  cardinality_error_0_unscaled: 3896.0000 (3818.4085)  loss_ce_1_unscaled: 1.2864 (1.2540)  loss_bbox_1_unscaled: 0.1162 (0.1285)  loss_giou_1_unscaled: 0.1846 (0.2075)  cardinality_error_1_unscaled: 3889.0000 (3601.5493)  loss_ce_enc_unscaled: 1.1396 (1.1354)  loss_bbox_enc_unscaled: 0.1725 (0.2059)  loss_giou_enc_unscaled: 0.2614 (0.3063)  cardinality_error_enc_unscaled: 3891.0000 (3783.1549)  time: 0.6549  data: 0.0019  max mem: 2715\n",
      "Epoch: [0]  [ 80/476]  eta: 0:04:16  lr: 0.000100  class_error: 100.00  loss: 8.9246 (9.6923)  loss_ce: 1.3377 (1.2742)  loss_bbox: 0.4424 (0.5800)  loss_giou: 0.2817 (0.3799)  loss_ce_0: 1.2972 (1.2285)  loss_bbox_0: 0.5162 (0.7337)  loss_giou_0: 0.3220 (0.4423)  loss_ce_1: 1.3312 (1.2632)  loss_bbox_1: 0.5809 (0.6345)  loss_giou_1: 0.3087 (0.4023)  loss_ce_enc: 1.2067 (1.1444)  loss_bbox_enc: 0.8412 (1.0116)  loss_giou_enc: 0.4500 (0.5976)  loss_ce_unscaled: 1.3377 (1.2742)  class_error_unscaled: 92.3077 (87.5736)  loss_bbox_unscaled: 0.0885 (0.1160)  loss_giou_unscaled: 0.1409 (0.1900)  cardinality_error_unscaled: 3899.0000 (3894.9630)  loss_ce_0_unscaled: 1.2972 (1.2285)  loss_bbox_0_unscaled: 0.1032 (0.1467)  loss_giou_0_unscaled: 0.1610 (0.2211)  cardinality_error_0_unscaled: 3896.0000 (3828.0370)  loss_ce_1_unscaled: 1.3312 (1.2632)  loss_bbox_1_unscaled: 0.1162 (0.1269)  loss_giou_1_unscaled: 0.1543 (0.2011)  cardinality_error_1_unscaled: 3891.0000 (3636.6049)  loss_ce_enc_unscaled: 1.2067 (1.1444)  loss_bbox_enc_unscaled: 0.1682 (0.2023)  loss_giou_enc_unscaled: 0.2250 (0.2988)  cardinality_error_enc_unscaled: 3883.0000 (3791.0123)  time: 0.6484  data: 0.0019  max mem: 2715\n",
      "Epoch: [0]  [ 90/476]  eta: 0:04:09  lr: 0.000100  class_error: 100.00  loss: 8.7348 (9.6046)  loss_ce: 1.3624 (1.2805)  loss_bbox: 0.3639 (0.5702)  loss_giou: 0.2411 (0.3724)  loss_ce_0: 1.3180 (1.2369)  loss_bbox_0: 0.4690 (0.7070)  loss_giou_0: 0.2804 (0.4294)  loss_ce_1: 1.3487 (1.2699)  loss_bbox_1: 0.4926 (0.6197)  loss_giou_1: 0.2786 (0.3933)  loss_ce_enc: 1.2067 (1.1505)  loss_bbox_enc: 0.7935 (0.9866)  loss_giou_enc: 0.4500 (0.5882)  loss_ce_unscaled: 1.3624 (1.2805)  class_error_unscaled: 92.3077 (87.3669)  loss_bbox_unscaled: 0.0728 (0.1140)  loss_giou_unscaled: 0.1206 (0.1862)  cardinality_error_unscaled: 3899.0000 (3895.3516)  loss_ce_0_unscaled: 1.3180 (1.2369)  loss_bbox_0_unscaled: 0.0938 (0.1414)  loss_giou_0_unscaled: 0.1402 (0.2147)  cardinality_error_0_unscaled: 3897.0000 (3835.6154)  loss_ce_1_unscaled: 1.3487 (1.2699)  loss_bbox_1_unscaled: 0.0985 (0.1239)  loss_giou_1_unscaled: 0.1393 (0.1967)  cardinality_error_1_unscaled: 3890.0000 (3664.1319)  loss_ce_enc_unscaled: 1.2067 (1.1505)  loss_bbox_enc_unscaled: 0.1587 (0.1973)  loss_giou_enc_unscaled: 0.2250 (0.2941)  cardinality_error_enc_unscaled: 3875.0000 (3798.0440)  time: 0.6298  data: 0.0020  max mem: 2715\n",
      "Epoch: [0]  [100/476]  eta: 0:04:03  lr: 0.000100  class_error: 84.62  loss: 9.2043 (9.6074)  loss_ce: 1.3624 (1.2848)  loss_bbox: 0.5224 (0.5760)  loss_giou: 0.2578 (0.3678)  loss_ce_0: 1.3289 (1.2426)  loss_bbox_0: 0.5279 (0.6999)  loss_giou_0: 0.2720 (0.4210)  loss_ce_1: 1.3467 (1.2750)  loss_bbox_1: 0.5182 (0.6199)  loss_giou_1: 0.2785 (0.3875)  loss_ce_enc: 1.2038 (1.1524)  loss_bbox_enc: 0.8830 (0.9931)  loss_giou_enc: 0.4774 (0.5875)  loss_ce_unscaled: 1.3624 (1.2848)  class_error_unscaled: 76.9231 (85.1142)  loss_bbox_unscaled: 0.1045 (0.1152)  loss_giou_unscaled: 0.1289 (0.1839)  cardinality_error_unscaled: 3899.0000 (3895.7129)  loss_ce_0_unscaled: 1.3289 (1.2426)  loss_bbox_0_unscaled: 0.1056 (0.1400)  loss_giou_0_unscaled: 0.1360 (0.2105)  cardinality_error_0_unscaled: 3897.0000 (3841.5050)  loss_ce_1_unscaled: 1.3467 (1.2750)  loss_bbox_1_unscaled: 0.1036 (0.1240)  loss_giou_1_unscaled: 0.1393 (0.1937)  cardinality_error_1_unscaled: 3890.0000 (3686.7426)  loss_ce_enc_unscaled: 1.2038 (1.1524)  loss_bbox_enc_unscaled: 0.1766 (0.1986)  loss_giou_enc_unscaled: 0.2387 (0.2938)  cardinality_error_enc_unscaled: 3895.0000 (3807.7228)  time: 0.6504  data: 0.0019  max mem: 2715\n",
      "Epoch: [0]  [110/476]  eta: 0:03:57  lr: 0.000100  class_error: 100.00  loss: 9.2790 (9.6223)  loss_ce: 1.3456 (1.2818)  loss_bbox: 0.6083 (0.5798)  loss_giou: 0.2742 (0.3749)  loss_ce_0: 1.3222 (1.2423)  loss_bbox_0: 0.6642 (0.6932)  loss_giou_0: 0.2876 (0.4247)  loss_ce_1: 1.3433 (1.2722)  loss_bbox_1: 0.6110 (0.6226)  loss_giou_1: 0.2897 (0.3943)  loss_ce_enc: 1.1633 (1.1476)  loss_bbox_enc: 0.9406 (0.9920)  loss_giou_enc: 0.5871 (0.5970)  loss_ce_unscaled: 1.3456 (1.2818)  class_error_unscaled: 76.9231 (85.0260)  loss_bbox_unscaled: 0.1217 (0.1160)  loss_giou_unscaled: 0.1371 (0.1874)  cardinality_error_unscaled: 3899.0000 (3895.6757)  loss_ce_0_unscaled: 1.3222 (1.2423)  loss_bbox_0_unscaled: 0.1328 (0.1386)  loss_giou_0_unscaled: 0.1438 (0.2123)  cardinality_error_0_unscaled: 3897.0000 (3846.2162)  loss_ce_1_unscaled: 1.3433 (1.2722)  loss_bbox_1_unscaled: 0.1222 (0.1245)  loss_giou_1_unscaled: 0.1448 (0.1972)  cardinality_error_1_unscaled: 3890.0000 (3704.0631)  loss_ce_enc_unscaled: 1.1633 (1.1476)  loss_bbox_enc_unscaled: 0.1881 (0.1984)  loss_giou_enc_unscaled: 0.2935 (0.2985)  cardinality_error_enc_unscaled: 3894.0000 (3811.6486)  time: 0.6707  data: 0.0019  max mem: 2715\n",
      "Epoch: [0]  [120/476]  eta: 0:03:52  lr: 0.000100  class_error: 61.54  loss: 9.7724 (9.6764)  loss_ce: 1.2524 (1.2781)  loss_bbox: 0.5640 (0.5944)  loss_giou: 0.3956 (0.3822)  loss_ce_0: 1.2150 (1.2390)  loss_bbox_0: 0.6766 (0.7027)  loss_giou_0: 0.4786 (0.4318)  loss_ce_1: 1.2371 (1.2688)  loss_bbox_1: 0.5992 (0.6352)  loss_giou_1: 0.4145 (0.4015)  loss_ce_enc: 1.0548 (1.1446)  loss_bbox_enc: 0.8730 (0.9944)  loss_giou_enc: 0.6828 (0.6034)  loss_ce_unscaled: 1.2524 (1.2781)  class_error_unscaled: 92.3077 (84.6447)  loss_bbox_unscaled: 0.1128 (0.1189)  loss_giou_unscaled: 0.1978 (0.1911)  cardinality_error_unscaled: 3899.0000 (3895.8099)  loss_ce_0_unscaled: 1.2150 (1.2390)  loss_bbox_0_unscaled: 0.1353 (0.1405)  loss_giou_0_unscaled: 0.2393 (0.2159)  cardinality_error_0_unscaled: 3896.0000 (3850.0496)  loss_ce_1_unscaled: 1.2371 (1.2688)  loss_bbox_1_unscaled: 0.1198 (0.1270)  loss_giou_1_unscaled: 0.2072 (0.2007)  cardinality_error_1_unscaled: 3887.0000 (3718.4628)  loss_ce_enc_unscaled: 1.0548 (1.1446)  loss_bbox_enc_unscaled: 0.1746 (0.1989)  loss_giou_enc_unscaled: 0.3414 (0.3017)  cardinality_error_enc_unscaled: 3887.0000 (3817.0744)  time: 0.6720  data: 0.0019  max mem: 2715\n",
      "Epoch: [0]  [130/476]  eta: 0:03:47  lr: 0.000100  class_error: 100.00  loss: 9.3600 (9.6302)  loss_ce: 1.2651 (1.2805)  loss_bbox: 0.4516 (0.5836)  loss_giou: 0.3730 (0.3826)  loss_ce_0: 1.2344 (1.2418)  loss_bbox_0: 0.5431 (0.6876)  loss_giou_0: 0.4375 (0.4302)  loss_ce_1: 1.2782 (1.2701)  loss_bbox_1: 0.4382 (0.6222)  loss_giou_1: 0.4073 (0.4012)  loss_ce_enc: 1.1173 (1.1462)  loss_bbox_enc: 0.7910 (0.9809)  loss_giou_enc: 0.5399 (0.6034)  loss_ce_unscaled: 1.2651 (1.2805)  class_error_unscaled: 76.9231 (83.8204)  loss_bbox_unscaled: 0.0903 (0.1167)  loss_giou_unscaled: 0.1865 (0.1913)  cardinality_error_unscaled: 3899.0000 (3896.0382)  loss_ce_0_unscaled: 1.2344 (1.2418)  loss_bbox_0_unscaled: 0.1086 (0.1375)  loss_giou_0_unscaled: 0.2188 (0.2151)  cardinality_error_0_unscaled: 3893.0000 (3853.2977)  loss_ce_1_unscaled: 1.2782 (1.2701)  loss_bbox_1_unscaled: 0.0876 (0.1244)  loss_giou_1_unscaled: 0.2037 (0.2006)  cardinality_error_1_unscaled: 3890.0000 (3731.8550)  loss_ce_enc_unscaled: 1.1173 (1.1462)  loss_bbox_enc_unscaled: 0.1582 (0.1962)  loss_giou_enc_unscaled: 0.2700 (0.3017)  cardinality_error_enc_unscaled: 3893.0000 (3822.4733)  time: 0.6916  data: 0.0019  max mem: 2715\n"
     ]
    },
    {
     "name": "stdout",
     "output_type": "stream",
     "text": [
      "Epoch: [0]  [140/476]  eta: 0:03:38  lr: 0.000100  class_error: 59.62  loss: 9.2188 (9.7121)  loss_ce: 1.2670 (1.2712)  loss_bbox: 0.4516 (0.5968)  loss_giou: 0.4039 (0.4019)  loss_ce_0: 1.2344 (1.2315)  loss_bbox_0: 0.5431 (0.6999)  loss_giou_0: 0.4375 (0.4502)  loss_ce_1: 1.2339 (1.2614)  loss_bbox_1: 0.4696 (0.6296)  loss_giou_1: 0.4261 (0.4173)  loss_ce_enc: 1.1312 (1.1360)  loss_bbox_enc: 0.7997 (0.9934)  loss_giou_enc: 0.5399 (0.6228)  loss_ce_unscaled: 1.2670 (1.2712)  class_error_unscaled: 69.2308 (82.6356)  loss_bbox_unscaled: 0.0903 (0.1194)  loss_giou_unscaled: 0.2019 (0.2010)  cardinality_error_unscaled: 3899.0000 (3896.0993)  loss_ce_0_unscaled: 1.2344 (1.2315)  loss_bbox_0_unscaled: 0.1086 (0.1400)  loss_giou_0_unscaled: 0.2188 (0.2251)  cardinality_error_0_unscaled: 3893.0000 (3855.2908)  loss_ce_1_unscaled: 1.2339 (1.2614)  loss_bbox_1_unscaled: 0.0939 (0.1259)  loss_giou_1_unscaled: 0.2131 (0.2087)  cardinality_error_1_unscaled: 3891.0000 (3742.8865)  loss_ce_enc_unscaled: 1.1312 (1.1360)  loss_bbox_enc_unscaled: 0.1599 (0.1987)  loss_giou_enc_unscaled: 0.2700 (0.3114)  cardinality_error_enc_unscaled: 3898.0000 (3827.7092)  time: 0.6441  data: 0.0019  max mem: 2715\n",
      "Epoch: [0]  [150/476]  eta: 0:03:33  lr: 0.000100  class_error: 61.54  loss: 9.3333 (9.6951)  loss_ce: 1.2760 (1.2725)  loss_bbox: 0.6001 (0.5984)  loss_giou: 0.3473 (0.4014)  loss_ce_0: 1.3230 (1.2357)  loss_bbox_0: 0.5173 (0.6897)  loss_giou_0: 0.2912 (0.4444)  loss_ce_1: 1.2600 (1.2611)  loss_bbox_1: 0.5432 (0.6330)  loss_giou_1: 0.3923 (0.4174)  loss_ce_enc: 1.2235 (1.1414)  loss_bbox_enc: 0.7997 (0.9847)  loss_giou_enc: 0.4625 (0.6152)  loss_ce_unscaled: 1.2760 (1.2725)  class_error_unscaled: 92.3077 (82.8177)  loss_bbox_unscaled: 0.1200 (0.1197)  loss_giou_unscaled: 0.1736 (0.2007)  cardinality_error_unscaled: 3899.0000 (3896.2649)  loss_ce_0_unscaled: 1.3230 (1.2357)  loss_bbox_0_unscaled: 0.1035 (0.1379)  loss_giou_0_unscaled: 0.1456 (0.2222)  cardinality_error_0_unscaled: 3892.0000 (3857.6689)  loss_ce_1_unscaled: 1.2600 (1.2611)  loss_bbox_1_unscaled: 0.1086 (0.1266)  loss_giou_1_unscaled: 0.1962 (0.2087)  cardinality_error_1_unscaled: 3888.0000 (3752.0132)  loss_ce_enc_unscaled: 1.2235 (1.1414)  loss_bbox_enc_unscaled: 0.1599 (0.1969)  loss_giou_enc_unscaled: 0.2313 (0.3076)  cardinality_error_enc_unscaled: 3898.0000 (3832.3046)  time: 0.6365  data: 0.0019  max mem: 2715\n",
      "Epoch: [0]  [160/476]  eta: 0:03:27  lr: 0.000100  class_error: 23.08  loss: 8.8817 (9.6866)  loss_ce: 1.3217 (1.2731)  loss_bbox: 0.4375 (0.5959)  loss_giou: 0.3268 (0.4041)  loss_ce_0: 1.3418 (1.2349)  loss_bbox_0: 0.4742 (0.6833)  loss_giou_0: 0.2912 (0.4472)  loss_ce_1: 1.3008 (1.2593)  loss_bbox_1: 0.5082 (0.6324)  loss_giou_1: 0.3405 (0.4211)  loss_ce_enc: 1.2306 (1.1411)  loss_bbox_enc: 0.7748 (0.9775)  loss_giou_enc: 0.4625 (0.6165)  loss_ce_unscaled: 1.3217 (1.2731)  class_error_unscaled: 92.3077 (82.7916)  loss_bbox_unscaled: 0.0875 (0.1192)  loss_giou_unscaled: 0.1634 (0.2021)  cardinality_error_unscaled: 3899.0000 (3896.2919)  loss_ce_0_unscaled: 1.3418 (1.2349)  loss_bbox_0_unscaled: 0.0948 (0.1367)  loss_giou_0_unscaled: 0.1456 (0.2236)  cardinality_error_0_unscaled: 3895.0000 (3859.7516)  loss_ce_1_unscaled: 1.3008 (1.2593)  loss_bbox_1_unscaled: 0.1016 (0.1265)  loss_giou_1_unscaled: 0.1702 (0.2106)  cardinality_error_1_unscaled: 3886.0000 (3759.8447)  loss_ce_enc_unscaled: 1.2306 (1.1411)  loss_bbox_enc_unscaled: 0.1550 (0.1955)  loss_giou_enc_unscaled: 0.2313 (0.3083)  cardinality_error_enc_unscaled: 3898.0000 (3836.2733)  time: 0.6935  data: 0.0018  max mem: 2715\n",
      "Epoch: [0]  [170/476]  eta: 0:03:19  lr: 0.000100  class_error: 76.92  loss: 9.1411 (9.6940)  loss_ce: 1.3654 (1.2798)  loss_bbox: 0.4375 (0.5982)  loss_giou: 0.3314 (0.4012)  loss_ce_0: 1.3435 (1.2405)  loss_bbox_0: 0.4249 (0.6758)  loss_giou_0: 0.2490 (0.4402)  loss_ce_1: 1.3008 (1.2605)  loss_bbox_1: 0.6162 (0.6428)  loss_giou_1: 0.3546 (0.4214)  loss_ce_enc: 1.2043 (1.1457)  loss_bbox_enc: 0.7939 (0.9782)  loss_giou_enc: 0.4892 (0.6097)  loss_ce_unscaled: 1.3654 (1.2798)  class_error_unscaled: 92.3077 (82.0935)  loss_bbox_unscaled: 0.0875 (0.1196)  loss_giou_unscaled: 0.1657 (0.2006)  cardinality_error_unscaled: 3899.0000 (3896.4035)  loss_ce_0_unscaled: 1.3435 (1.2405)  loss_bbox_0_unscaled: 0.0850 (0.1352)  loss_giou_0_unscaled: 0.1245 (0.2201)  cardinality_error_0_unscaled: 3898.0000 (3861.8421)  loss_ce_1_unscaled: 1.3008 (1.2605)  loss_bbox_1_unscaled: 0.1232 (0.1286)  loss_giou_1_unscaled: 0.1773 (0.2107)  cardinality_error_1_unscaled: 3893.0000 (3767.4620)  loss_ce_enc_unscaled: 1.2043 (1.1457)  loss_bbox_enc_unscaled: 0.1588 (0.1956)  loss_giou_enc_unscaled: 0.2446 (0.3049)  cardinality_error_enc_unscaled: 3897.0000 (3839.7310)  time: 0.6509  data: 0.0018  max mem: 2715\n",
      "Epoch: [0]  [180/476]  eta: 0:03:14  lr: 0.000100  class_error: 100.00  loss: 9.8829 (9.7503)  loss_ce: 1.3653 (1.2820)  loss_bbox: 0.5307 (0.6066)  loss_giou: 0.3913 (0.4059)  loss_ce_0: 1.3259 (1.2397)  loss_bbox_0: 0.6030 (0.6862)  loss_giou_0: 0.3524 (0.4450)  loss_ce_1: 1.2790 (1.2597)  loss_bbox_1: 0.6745 (0.6525)  loss_giou_1: 0.4425 (0.4266)  loss_ce_enc: 1.1988 (1.1443)  loss_bbox_enc: 1.0649 (0.9886)  loss_giou_enc: 0.5406 (0.6131)  loss_ce_unscaled: 1.3653 (1.2820)  class_error_unscaled: 93.1624 (82.6260)  loss_bbox_unscaled: 0.1061 (0.1213)  loss_giou_unscaled: 0.1956 (0.2030)  cardinality_error_unscaled: 3899.0000 (3896.5193)  loss_ce_0_unscaled: 1.3259 (1.2397)  loss_bbox_0_unscaled: 0.1206 (0.1372)  loss_giou_0_unscaled: 0.1762 (0.2225)  cardinality_error_0_unscaled: 3899.0000 (3863.8674)  loss_ce_1_unscaled: 1.2790 (1.2597)  loss_bbox_1_unscaled: 0.1349 (0.1305)  loss_giou_1_unscaled: 0.2212 (0.2133)  cardinality_error_1_unscaled: 3899.0000 (3774.6464)  loss_ce_enc_unscaled: 1.1988 (1.1443)  loss_bbox_enc_unscaled: 0.2130 (0.1977)  loss_giou_enc_unscaled: 0.2703 (0.3065)  cardinality_error_enc_unscaled: 3896.0000 (3842.7845)  time: 0.6675  data: 0.0018  max mem: 2715\n",
      "Epoch: [0]  [190/476]  eta: 0:03:07  lr: 0.000100  class_error: 92.31  loss: 10.7896 (9.7861)  loss_ce: 1.3162 (1.2795)  loss_bbox: 0.7298 (0.6089)  loss_giou: 0.4738 (0.4148)  loss_ce_0: 1.2823 (1.2353)  loss_bbox_0: 0.8069 (0.6898)  loss_giou_0: 0.4048 (0.4550)  loss_ce_1: 1.2790 (1.2594)  loss_bbox_1: 0.6887 (0.6537)  loss_giou_1: 0.4425 (0.4343)  loss_ce_enc: 1.1767 (1.1386)  loss_bbox_enc: 1.0649 (0.9925)  loss_giou_enc: 0.5752 (0.6243)  loss_ce_unscaled: 1.3162 (1.2795)  class_error_unscaled: 100.0000 (82.3475)  loss_bbox_unscaled: 0.1460 (0.1218)  loss_giou_unscaled: 0.2369 (0.2074)  cardinality_error_unscaled: 3899.0000 (3896.6335)  loss_ce_0_unscaled: 1.2823 (1.2353)  loss_bbox_0_unscaled: 0.1614 (0.1380)  loss_giou_0_unscaled: 0.2024 (0.2275)  cardinality_error_0_unscaled: 3899.0000 (3865.6806)  loss_ce_1_unscaled: 1.2790 (1.2594)  loss_bbox_1_unscaled: 0.1377 (0.1307)  loss_giou_1_unscaled: 0.2212 (0.2172)  cardinality_error_1_unscaled: 3899.0000 (3781.1257)  loss_ce_enc_unscaled: 1.1767 (1.1386)  loss_bbox_enc_unscaled: 0.2130 (0.1985)  loss_giou_enc_unscaled: 0.2876 (0.3121)  cardinality_error_enc_unscaled: 3896.0000 (3845.5026)  time: 0.6852  data: 0.0020  max mem: 2715\n",
      "Epoch: [0]  [200/476]  eta: 0:03:02  lr: 0.000100  class_error: 84.62  loss: 9.3857 (9.7561)  loss_ce: 1.3594 (1.2836)  loss_bbox: 0.5059 (0.6022)  loss_giou: 0.2721 (0.4080)  loss_ce_0: 1.3522 (1.2404)  loss_bbox_0: 0.5571 (0.6824)  loss_giou_0: 0.2813 (0.4478)  loss_ce_1: 1.4206 (1.2665)  loss_bbox_1: 0.5345 (0.6451)  loss_giou_1: 0.2765 (0.4270)  loss_ce_enc: 1.1934 (1.1419)  loss_bbox_enc: 0.9852 (0.9912)  loss_giou_enc: 0.4950 (0.6200)  loss_ce_unscaled: 1.3594 (1.2836)  class_error_unscaled: 84.6154 (82.4508)  loss_bbox_unscaled: 0.1012 (0.1204)  loss_giou_unscaled: 0.1361 (0.2040)  cardinality_error_unscaled: 3899.0000 (3896.7363)  loss_ce_0_unscaled: 1.3522 (1.2404)  loss_bbox_0_unscaled: 0.1114 (0.1365)  loss_giou_0_unscaled: 0.1406 (0.2239)  cardinality_error_0_unscaled: 3899.0000 (3867.3234)  loss_ce_1_unscaled: 1.4206 (1.2665)  loss_bbox_1_unscaled: 0.1069 (0.1290)  loss_giou_1_unscaled: 0.1383 (0.2135)  cardinality_error_1_unscaled: 3899.0000 (3786.9701)  loss_ce_enc_unscaled: 1.1934 (1.1419)  loss_bbox_enc_unscaled: 0.1970 (0.1982)  loss_giou_enc_unscaled: 0.2475 (0.3100)  cardinality_error_enc_unscaled: 3898.0000 (3847.7960)  time: 0.6999  data: 0.0020  max mem: 2715\n"
     ]
    },
    {
     "name": "stdout",
     "output_type": "stream",
     "text": [
      "Epoch: [0]  [210/476]  eta: 0:02:54  lr: 0.000100  class_error: 38.46  loss: 9.1808 (9.7554)  loss_ce: 1.3478 (1.2798)  loss_bbox: 0.4672 (0.5996)  loss_giou: 0.2609 (0.4120)  loss_ce_0: 1.3522 (1.2370)  loss_bbox_0: 0.5571 (0.6855)  loss_giou_0: 0.2813 (0.4544)  loss_ce_1: 1.3674 (1.2644)  loss_bbox_1: 0.5107 (0.6410)  loss_giou_1: 0.2601 (0.4298)  loss_ce_enc: 1.1931 (1.1399)  loss_bbox_enc: 0.8973 (0.9879)  loss_giou_enc: 0.4950 (0.6242)  loss_ce_unscaled: 1.3478 (1.2798)  class_error_unscaled: 84.6154 (82.0567)  loss_bbox_unscaled: 0.0934 (0.1199)  loss_giou_unscaled: 0.1304 (0.2060)  cardinality_error_unscaled: 3899.0000 (3896.7346)  loss_ce_0_unscaled: 1.3522 (1.2370)  loss_bbox_0_unscaled: 0.1114 (0.1371)  loss_giou_0_unscaled: 0.1406 (0.2272)  cardinality_error_0_unscaled: 3899.0000 (3868.7156)  loss_ce_1_unscaled: 1.3674 (1.2644)  loss_bbox_1_unscaled: 0.1021 (0.1282)  loss_giou_1_unscaled: 0.1301 (0.2149)  cardinality_error_1_unscaled: 3899.0000 (3792.1659)  loss_ce_enc_unscaled: 1.1931 (1.1399)  loss_bbox_enc_unscaled: 0.1795 (0.1976)  loss_giou_enc_unscaled: 0.2475 (0.3121)  cardinality_error_enc_unscaled: 3897.0000 (3849.7393)  time: 0.6627  data: 0.0020  max mem: 2715\n",
      "Epoch: [0]  [220/476]  eta: 0:02:49  lr: 0.000100  class_error: 0.00  loss: 8.4591 (9.7133)  loss_ce: 1.3085 (1.2821)  loss_bbox: 0.3931 (0.5905)  loss_giou: 0.2478 (0.4062)  loss_ce_0: 1.3467 (1.2419)  loss_bbox_0: 0.4289 (0.6761)  loss_giou_0: 0.2605 (0.4498)  loss_ce_1: 1.3467 (1.2688)  loss_bbox_1: 0.4198 (0.6312)  loss_giou_1: 0.2659 (0.4239)  loss_ce_enc: 1.2415 (1.1439)  loss_bbox_enc: 0.7110 (0.9792)  loss_giou_enc: 0.4013 (0.6196)  loss_ce_unscaled: 1.3085 (1.2821)  class_error_unscaled: 76.9231 (81.2849)  loss_bbox_unscaled: 0.0786 (0.1181)  loss_giou_unscaled: 0.1239 (0.2031)  cardinality_error_unscaled: 3898.0000 (3896.8145)  loss_ce_0_unscaled: 1.3467 (1.2419)  loss_bbox_0_unscaled: 0.0858 (0.1352)  loss_giou_0_unscaled: 0.1302 (0.2249)  cardinality_error_0_unscaled: 3898.0000 (3870.0633)  loss_ce_1_unscaled: 1.3467 (1.2688)  loss_bbox_1_unscaled: 0.0840 (0.1262)  loss_giou_1_unscaled: 0.1330 (0.2120)  cardinality_error_1_unscaled: 3898.0000 (3796.9638)  loss_ce_enc_unscaled: 1.2415 (1.1439)  loss_bbox_enc_unscaled: 0.1422 (0.1958)  loss_giou_enc_unscaled: 0.2007 (0.3098)  cardinality_error_enc_unscaled: 3897.0000 (3851.9095)  time: 0.6520  data: 0.0019  max mem: 2715\n"
     ]
    }
   ],
   "source": [
    "model.train(dataset_dir=os.path.join(data_dir, \"Fish.v44i.coco\"), epochs=3, batch_size=1, grad_accum_steps=1, lr=1e-4)\n",
    "Image.open(\"/content/output/metrics_plot.png\")"
   ]
  },
  {
   "cell_type": "code",
   "execution_count": null,
   "id": "6c262338",
   "metadata": {},
   "outputs": [],
   "source": [
    "# Crée une instance du modèle\n",
    "model = RFDETRBase()\n",
    "# Affiche un résumé rapide du modèle\n",
    "print(model)"
   ]
  }
 ],
 "metadata": {
  "kernelspec": {
   "display_name": "Python (rf-detr)",
   "language": "python",
   "name": "rfdetr"
  },
  "language_info": {
   "codemirror_mode": {
    "name": "ipython",
    "version": 3
   },
   "file_extension": ".py",
   "mimetype": "text/x-python",
   "name": "python",
   "nbconvert_exporter": "python",
   "pygments_lexer": "ipython3",
   "version": "3.10.16"
  }
 },
 "nbformat": 4,
 "nbformat_minor": 5
}
