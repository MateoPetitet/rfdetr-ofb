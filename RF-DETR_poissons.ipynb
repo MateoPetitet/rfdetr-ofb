{
 "cells": [
  {
   "cell_type": "markdown",
   "id": "0e3d1049",
   "metadata": {},
   "source": [
    "# Fine-tuning : RF-DETR\n",
    "\n",
    "Objectif : faire de RF-DETR un détecteur de poissons sur des images de 1920\\*1080 pixels"
   ]
  },
  {
   "cell_type": "code",
   "execution_count": 2,
   "id": "4d556102",
   "metadata": {},
   "outputs": [
    {
     "name": "stdout",
     "output_type": "stream",
     "text": [
      "Device utilisé : cuda\n"
     ]
    }
   ],
   "source": [
    "# Importations\n",
    "import os\n",
    "import numpy as np\n",
    "import torch\n",
    "import torchvision\n",
    "from torchvision import transforms\n",
    "import torch.nn as nn\n",
    "import torch.optim as optim\n",
    "from torch.utils.data import Dataset, DataLoader\n",
    "import json\n",
    "import cv2\n",
    "import matplotlib.pyplot as plt\n",
    "\n",
    "# Vérification de la disponibilité du GPU\n",
    "device = torch.device(\"cuda\" if torch.cuda.is_available() else \"cpu\")\n",
    "print(\"Device utilisé :\", device)\n"
   ]
  },
  {
   "cell_type": "code",
   "execution_count": null,
   "id": "1b1d07d1",
   "metadata": {},
   "outputs": [],
   "source": []
  }
 ],
 "metadata": {
  "kernelspec": {
   "display_name": "Python (rf-detr)",
   "language": "python",
   "name": "rfdetr"
  },
  "language_info": {
   "codemirror_mode": {
    "name": "ipython",
    "version": 3
   },
   "file_extension": ".py",
   "mimetype": "text/x-python",
   "name": "python",
   "nbconvert_exporter": "python",
   "pygments_lexer": "ipython3",
   "version": "3.10.16"
  }
 },
 "nbformat": 4,
 "nbformat_minor": 5
}
